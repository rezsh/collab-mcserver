{
  "nbformat": 4,
  "nbformat_minor": 0,
  "metadata": {
    "colab": {
      "name": "colab-mcserver",
      "provenance": [],
      "collapsed_sections": [],
      "include_colab_link": true
    },
    "kernelspec": {
      "name": "python3",
      "display_name": "Python 3"
    }
  },
  "cells": [
    {
      "cell_type": "markdown",
      "metadata": {
        "id": "view-in-github",
        "colab_type": "text"
      },
      "source": [
        "<a href=\"https://colab.research.google.com/github/rezsh/collab-mcserver/blob/main/colab_mcserver.ipynb\" target=\"_parent\"><img src=\"https://colab.research.google.com/assets/colab-badge.svg\" alt=\"Open In Colab\"/></a>"
      ]
    },
    {
      "cell_type": "markdown",
      "metadata": {
        "id": "g7UrSvrr0wUf"
      },
      "source": [
        "## **MINECRAFT SERVER ON GOOGLE COLAB**\r\n",
        "Visit Our Website [kitrus-software.me](https://kitrus-software.me)"
      ]
    },
    {
      "cell_type": "markdown",
      "metadata": {
        "id": "7wrNfinQOlWV"
      },
      "source": [
        "**Download the Minecraft server**\n",
        "\n",
        "The code below will download Paper, a high-performance fork of the Vanilla server. \n",
        "\n",
        "Using your Google Drive as Storage"
      ]
    },
    {
      "cell_type": "code",
      "metadata": {
        "id": "Fy5-YjJMPV3S"
      },
      "source": [
        "# Replace \"1.16.4\" with your desired server version.\n",
        "# Available versions:\n",
        "# - 1.16.4\n",
        "# - 1.16.3\n",
        "# - 1.15.2\n",
        "# - 1.14.4\n",
        "# - 1.13.2\n",
        "# - 1.12.2\n",
        "# - 1.11.2\n",
        "# - 1.10.2\n",
        "# - 1.9.4\n",
        "# - 1.8.8\n",
        "# Newer versions might work too, however this isn't guaranteed.\n",
        "version = '1.16.4'\n",
        "\n",
        "from google.colab import drive\n",
        "import requests\n",
        "\n",
        "drive.mount('/content/drive')\n",
        "\n",
        "# Create the directory which will be used for the server\n",
        "! mkdir \"/content/drive/My Drive/Minecraft-server\"\n",
        "\n",
        "print('Downloading to Google Drive...')\n",
        "\n",
        "url = 'https://papermc.io/api/v1/paper/' + version + '/latest/download'\n",
        "\n",
        "r = requests.get(url)\n",
        "\n",
        "if r.status_code is 200:\n",
        "  with open('/content/drive/My Drive/Minecraft-server/server.jar', 'wb') as f:\n",
        "    f.write(r.content)\n",
        "  print('Done!')\n",
        "else:\n",
        "  print('Error '+ str(r.status_code) + '! Most likely you entered a unsupported version. Try running the code again if you think that shouldn\\'t have happened.')"
      ],
      "execution_count": null,
      "outputs": []
    },
    {
      "cell_type": "markdown",
      "metadata": {
        "id": "8BX7BKPr2b5s"
      },
      "source": [
        "## **Run Your Server**\r\n",
        "\r\n",
        "this command will turn on your server\r\n",
        "\r\n",
        "first time setup will canceled cause of eula, you can accept it automatically using the next command"
      ]
    },
    {
      "cell_type": "code",
      "metadata": {
        "id": "lqtMoYg0dUmu"
      },
      "source": [
        "# Update the package lists\n",
        "!sudo apt update &>/dev/null && echo \"apt cache successfully updated\" || echo \"apt cache update failed, you might receive stale packages\"\n",
        "# Install OpenJDK 15\n",
        "!wget -qO - https://adoptopenjdk.jfrog.io/adoptopenjdk/api/gpg/key/public | sudo apt-key add -\n",
        "!sudo add-apt-repository --yes https://adoptopenjdk.jfrog.io/adoptopenjdk/deb/ &>/dev/null || echo \"Failed to add repo. Still can be ignored if openjdk15 gets installed.\"\n",
        "!sudo apt-get install adoptopenjdk-15-hotspot-jre &>/dev/null && echo \"Yay! Openjdk15 has been successfully installed.\" || echo \"Failed to install OpenJdk15.\"\n",
        "#Perform java version check\n",
        "java_ver = !java -version 2>&1 | awk -F[\\\"\\.] -v OFS=. 'NR==1{print $2}'\n",
        "if java_ver[0] == \"15\" :\n",
        "  print(\"Openjdk15 is working correctly, you are good to go.\")\n",
        "else:\n",
        "  print(\"Openjdk15 doesn't seems to be installed or isn't working, falling back to java\", java_ver[0], \". You might experience reduced performance.\")\n",
        " \n",
        "# Mount Google Drive\n",
        "from google.colab import drive\n",
        "drive.mount('/content/drive')\n",
        " \n",
        "# Change directory to the Minecraft server folder on Google Drive\n",
        "%cd \"/content/drive/My Drive/Minecraft-server\"\n",
        "!ls #list the directory contents (to verify that working directory was changed)\n",
        " \n",
        "print('Starting server...')\n",
        "!java -Xmx6144M -Xms6144M -XX:+UseG1GC -XX:+ParallelRefProcEnabled -XX:MaxGCPauseMillis=200 -XX:+UnlockExperimentalVMOptions -XX:+DisableExplicitGC -XX:+AlwaysPreTouch -XX:G1NewSizePercent=30 -XX:G1MaxNewSizePercent=40 -XX:G1HeapRegionSize=8M -XX:G1ReservePercent=20 -XX:G1HeapWastePercent=5 -XX:G1MixedGCCountTarget=4 -XX:InitiatingHeapOccupancyPercent=15 -XX:G1MixedGCLiveThresholdPercent=90 -XX:G1RSetUpdatingPauseTimePercent=5 -XX:SurvivorRatio=32 -XX:+PerfDisableSharedMem -XX:MaxTenuringThreshold=1 -Dusing.aikars.flags=https://mcflags.emc.gs -Daikars.new.flags=true -jar server.jar nogui"
      ],
      "execution_count": null,
      "outputs": []
    },
    {
      "cell_type": "markdown",
      "metadata": {
        "id": "EDn2Pi3mpsEv"
      },
      "source": [
        "**Accept Eula & Download Playit.gg server**\r\n",
        "\r\n",
        "will accept the eula automatically and install a platyit.gg tunnel program for your server adress"
      ]
    },
    {
      "cell_type": "code",
      "metadata": {
        "id": "aefCB6cFlle8"
      },
      "source": [
        "# Please read the file stored in your server folder before running this command. \n",
        "# Also, go to https://www.minecraft.net/en-us/eula to read Minecraft's EULA.\n",
        "\n",
        "# Make sure Drive is mounted\n",
        "from google.colab import drive\n",
        "drive.mount('/content/drive')\n",
        "\n",
        "%cd \"/content/drive/My Drive/Minecraft-server\"\n",
        "! sed -i 's/eula=false/eula=true/g' eula.txt\n",
        "# Installing Playit.gg server\n",
        "! wget https://playit.gg/downloads/playit-linux_64-0.2.0-beta-rc-3"
      ],
      "execution_count": null,
      "outputs": []
    },
    {
      "cell_type": "markdown",
      "metadata": {
        "id": "qJ76Wy2breqW"
      },
      "source": [
        "# **Create server tunnel ip**\r\n",
        "Run Playit Tunnel. **This is important before running the server!**\r\n",
        "\r\n",
        "Make sure run this first and then the minecraft server!\r\n",
        "\r\n",
        "1.   Run the !tmux \r\n",
        "2.   type or copy the following command\r\n",
        "3.   **chmod +x ./playit-linux_64-0.2.0-beta-rc-3**\r\n",
        "3.   **./playit-linux_64-0.2.0-beta-rc-3**\r\n",
        "4.    Paste the generated link to your browser, there you can see your server adress\r\n",
        "5.    Stop the tmux process when you done activating the tunnel\r\n"
      ]
    },
    {
      "cell_type": "code",
      "metadata": {
        "id": "gcR6rHdcrdTC"
      },
      "source": [
        "!tmux"
      ],
      "execution_count": null,
      "outputs": []
    },
    {
      "cell_type": "markdown",
      "metadata": {
        "id": "a4F1uhJf1h02"
      },
      "source": [
        "Youre done! \r\n",
        "\r\n",
        "next time you get back here, make sure to run the playit again, then run the server!"
      ]
    }
  ]
}